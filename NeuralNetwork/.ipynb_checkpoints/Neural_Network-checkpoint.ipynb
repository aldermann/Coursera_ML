{
 "cells": [
  {
   "cell_type": "code",
   "execution_count": 1,
   "metadata": {
    "colab": {
     "base_uri": "https://localhost:8080/",
     "height": 54
    },
    "colab_type": "code",
    "id": "1Ngs1jNdCda6",
    "outputId": "05adec8f-a6de-4e46-dbe5-92b89477a8d6"
   },
   "outputs": [],
   "source": [
    "import pandas as pd\n",
    "import matplotlib.pyplot as plt\n",
    "import numpy as np\n",
    "import scipy\n",
    "from sklearn.model_selection import train_test_split\n",
    "from tqdm import tqdm\n",
    "# from google.colab import drive\n",
    "# drive.mount('/content/gdrive')"
   ]
  },
  {
   "cell_type": "code",
   "execution_count": 2,
   "metadata": {
    "colab": {},
    "colab_type": "code",
    "id": "wKnUkrWbCda9"
   },
   "outputs": [],
   "source": [
    "data = pd.read_pickle(\"data.pkz\")"
   ]
  },
  {
   "cell_type": "code",
   "execution_count": 3,
   "metadata": {},
   "outputs": [
    {
     "data": {
      "text/html": [
       "<div>\n",
       "<style scoped>\n",
       "    .dataframe tbody tr th:only-of-type {\n",
       "        vertical-align: middle;\n",
       "    }\n",
       "\n",
       "    .dataframe tbody tr th {\n",
       "        vertical-align: top;\n",
       "    }\n",
       "\n",
       "    .dataframe thead th {\n",
       "        text-align: right;\n",
       "    }\n",
       "</style>\n",
       "<table border=\"1\" class=\"dataframe\">\n",
       "  <thead>\n",
       "    <tr style=\"text-align: right;\">\n",
       "      <th></th>\n",
       "      <th>label</th>\n",
       "      <th>pixel0</th>\n",
       "      <th>pixel1</th>\n",
       "      <th>pixel2</th>\n",
       "      <th>pixel3</th>\n",
       "      <th>pixel4</th>\n",
       "      <th>pixel5</th>\n",
       "      <th>pixel6</th>\n",
       "      <th>pixel7</th>\n",
       "      <th>pixel8</th>\n",
       "      <th>...</th>\n",
       "      <th>pixel774</th>\n",
       "      <th>pixel775</th>\n",
       "      <th>pixel776</th>\n",
       "      <th>pixel777</th>\n",
       "      <th>pixel778</th>\n",
       "      <th>pixel779</th>\n",
       "      <th>pixel780</th>\n",
       "      <th>pixel781</th>\n",
       "      <th>pixel782</th>\n",
       "      <th>pixel783</th>\n",
       "    </tr>\n",
       "  </thead>\n",
       "  <tbody>\n",
       "    <tr>\n",
       "      <th>count</th>\n",
       "      <td>42000.000000</td>\n",
       "      <td>42000.0</td>\n",
       "      <td>42000.0</td>\n",
       "      <td>42000.0</td>\n",
       "      <td>42000.0</td>\n",
       "      <td>42000.0</td>\n",
       "      <td>42000.0</td>\n",
       "      <td>42000.0</td>\n",
       "      <td>42000.0</td>\n",
       "      <td>42000.0</td>\n",
       "      <td>...</td>\n",
       "      <td>42000.000000</td>\n",
       "      <td>42000.000000</td>\n",
       "      <td>42000.000000</td>\n",
       "      <td>42000.00000</td>\n",
       "      <td>42000.000000</td>\n",
       "      <td>42000.000000</td>\n",
       "      <td>42000.0</td>\n",
       "      <td>42000.0</td>\n",
       "      <td>42000.0</td>\n",
       "      <td>42000.0</td>\n",
       "    </tr>\n",
       "    <tr>\n",
       "      <th>mean</th>\n",
       "      <td>4.456643</td>\n",
       "      <td>0.0</td>\n",
       "      <td>0.0</td>\n",
       "      <td>0.0</td>\n",
       "      <td>0.0</td>\n",
       "      <td>0.0</td>\n",
       "      <td>0.0</td>\n",
       "      <td>0.0</td>\n",
       "      <td>0.0</td>\n",
       "      <td>0.0</td>\n",
       "      <td>...</td>\n",
       "      <td>0.219286</td>\n",
       "      <td>0.117095</td>\n",
       "      <td>0.059024</td>\n",
       "      <td>0.02019</td>\n",
       "      <td>0.017238</td>\n",
       "      <td>0.002857</td>\n",
       "      <td>0.0</td>\n",
       "      <td>0.0</td>\n",
       "      <td>0.0</td>\n",
       "      <td>0.0</td>\n",
       "    </tr>\n",
       "    <tr>\n",
       "      <th>std</th>\n",
       "      <td>2.887730</td>\n",
       "      <td>0.0</td>\n",
       "      <td>0.0</td>\n",
       "      <td>0.0</td>\n",
       "      <td>0.0</td>\n",
       "      <td>0.0</td>\n",
       "      <td>0.0</td>\n",
       "      <td>0.0</td>\n",
       "      <td>0.0</td>\n",
       "      <td>0.0</td>\n",
       "      <td>...</td>\n",
       "      <td>6.312890</td>\n",
       "      <td>4.633819</td>\n",
       "      <td>3.274488</td>\n",
       "      <td>1.75987</td>\n",
       "      <td>1.894498</td>\n",
       "      <td>0.414264</td>\n",
       "      <td>0.0</td>\n",
       "      <td>0.0</td>\n",
       "      <td>0.0</td>\n",
       "      <td>0.0</td>\n",
       "    </tr>\n",
       "    <tr>\n",
       "      <th>min</th>\n",
       "      <td>0.000000</td>\n",
       "      <td>0.0</td>\n",
       "      <td>0.0</td>\n",
       "      <td>0.0</td>\n",
       "      <td>0.0</td>\n",
       "      <td>0.0</td>\n",
       "      <td>0.0</td>\n",
       "      <td>0.0</td>\n",
       "      <td>0.0</td>\n",
       "      <td>0.0</td>\n",
       "      <td>...</td>\n",
       "      <td>0.000000</td>\n",
       "      <td>0.000000</td>\n",
       "      <td>0.000000</td>\n",
       "      <td>0.00000</td>\n",
       "      <td>0.000000</td>\n",
       "      <td>0.000000</td>\n",
       "      <td>0.0</td>\n",
       "      <td>0.0</td>\n",
       "      <td>0.0</td>\n",
       "      <td>0.0</td>\n",
       "    </tr>\n",
       "    <tr>\n",
       "      <th>25%</th>\n",
       "      <td>2.000000</td>\n",
       "      <td>0.0</td>\n",
       "      <td>0.0</td>\n",
       "      <td>0.0</td>\n",
       "      <td>0.0</td>\n",
       "      <td>0.0</td>\n",
       "      <td>0.0</td>\n",
       "      <td>0.0</td>\n",
       "      <td>0.0</td>\n",
       "      <td>0.0</td>\n",
       "      <td>...</td>\n",
       "      <td>0.000000</td>\n",
       "      <td>0.000000</td>\n",
       "      <td>0.000000</td>\n",
       "      <td>0.00000</td>\n",
       "      <td>0.000000</td>\n",
       "      <td>0.000000</td>\n",
       "      <td>0.0</td>\n",
       "      <td>0.0</td>\n",
       "      <td>0.0</td>\n",
       "      <td>0.0</td>\n",
       "    </tr>\n",
       "    <tr>\n",
       "      <th>50%</th>\n",
       "      <td>4.000000</td>\n",
       "      <td>0.0</td>\n",
       "      <td>0.0</td>\n",
       "      <td>0.0</td>\n",
       "      <td>0.0</td>\n",
       "      <td>0.0</td>\n",
       "      <td>0.0</td>\n",
       "      <td>0.0</td>\n",
       "      <td>0.0</td>\n",
       "      <td>0.0</td>\n",
       "      <td>...</td>\n",
       "      <td>0.000000</td>\n",
       "      <td>0.000000</td>\n",
       "      <td>0.000000</td>\n",
       "      <td>0.00000</td>\n",
       "      <td>0.000000</td>\n",
       "      <td>0.000000</td>\n",
       "      <td>0.0</td>\n",
       "      <td>0.0</td>\n",
       "      <td>0.0</td>\n",
       "      <td>0.0</td>\n",
       "    </tr>\n",
       "    <tr>\n",
       "      <th>75%</th>\n",
       "      <td>7.000000</td>\n",
       "      <td>0.0</td>\n",
       "      <td>0.0</td>\n",
       "      <td>0.0</td>\n",
       "      <td>0.0</td>\n",
       "      <td>0.0</td>\n",
       "      <td>0.0</td>\n",
       "      <td>0.0</td>\n",
       "      <td>0.0</td>\n",
       "      <td>0.0</td>\n",
       "      <td>...</td>\n",
       "      <td>0.000000</td>\n",
       "      <td>0.000000</td>\n",
       "      <td>0.000000</td>\n",
       "      <td>0.00000</td>\n",
       "      <td>0.000000</td>\n",
       "      <td>0.000000</td>\n",
       "      <td>0.0</td>\n",
       "      <td>0.0</td>\n",
       "      <td>0.0</td>\n",
       "      <td>0.0</td>\n",
       "    </tr>\n",
       "    <tr>\n",
       "      <th>max</th>\n",
       "      <td>9.000000</td>\n",
       "      <td>0.0</td>\n",
       "      <td>0.0</td>\n",
       "      <td>0.0</td>\n",
       "      <td>0.0</td>\n",
       "      <td>0.0</td>\n",
       "      <td>0.0</td>\n",
       "      <td>0.0</td>\n",
       "      <td>0.0</td>\n",
       "      <td>0.0</td>\n",
       "      <td>...</td>\n",
       "      <td>254.000000</td>\n",
       "      <td>254.000000</td>\n",
       "      <td>253.000000</td>\n",
       "      <td>253.00000</td>\n",
       "      <td>254.000000</td>\n",
       "      <td>62.000000</td>\n",
       "      <td>0.0</td>\n",
       "      <td>0.0</td>\n",
       "      <td>0.0</td>\n",
       "      <td>0.0</td>\n",
       "    </tr>\n",
       "  </tbody>\n",
       "</table>\n",
       "<p>8 rows × 785 columns</p>\n",
       "</div>"
      ],
      "text/plain": [
       "              label   pixel0   pixel1   pixel2   pixel3   pixel4   pixel5  \\\n",
       "count  42000.000000  42000.0  42000.0  42000.0  42000.0  42000.0  42000.0   \n",
       "mean       4.456643      0.0      0.0      0.0      0.0      0.0      0.0   \n",
       "std        2.887730      0.0      0.0      0.0      0.0      0.0      0.0   \n",
       "min        0.000000      0.0      0.0      0.0      0.0      0.0      0.0   \n",
       "25%        2.000000      0.0      0.0      0.0      0.0      0.0      0.0   \n",
       "50%        4.000000      0.0      0.0      0.0      0.0      0.0      0.0   \n",
       "75%        7.000000      0.0      0.0      0.0      0.0      0.0      0.0   \n",
       "max        9.000000      0.0      0.0      0.0      0.0      0.0      0.0   \n",
       "\n",
       "        pixel6   pixel7   pixel8  ...      pixel774      pixel775  \\\n",
       "count  42000.0  42000.0  42000.0  ...  42000.000000  42000.000000   \n",
       "mean       0.0      0.0      0.0  ...      0.219286      0.117095   \n",
       "std        0.0      0.0      0.0  ...      6.312890      4.633819   \n",
       "min        0.0      0.0      0.0  ...      0.000000      0.000000   \n",
       "25%        0.0      0.0      0.0  ...      0.000000      0.000000   \n",
       "50%        0.0      0.0      0.0  ...      0.000000      0.000000   \n",
       "75%        0.0      0.0      0.0  ...      0.000000      0.000000   \n",
       "max        0.0      0.0      0.0  ...    254.000000    254.000000   \n",
       "\n",
       "           pixel776     pixel777      pixel778      pixel779  pixel780  \\\n",
       "count  42000.000000  42000.00000  42000.000000  42000.000000   42000.0   \n",
       "mean       0.059024      0.02019      0.017238      0.002857       0.0   \n",
       "std        3.274488      1.75987      1.894498      0.414264       0.0   \n",
       "min        0.000000      0.00000      0.000000      0.000000       0.0   \n",
       "25%        0.000000      0.00000      0.000000      0.000000       0.0   \n",
       "50%        0.000000      0.00000      0.000000      0.000000       0.0   \n",
       "75%        0.000000      0.00000      0.000000      0.000000       0.0   \n",
       "max      253.000000    253.00000    254.000000     62.000000       0.0   \n",
       "\n",
       "       pixel781  pixel782  pixel783  \n",
       "count   42000.0   42000.0   42000.0  \n",
       "mean        0.0       0.0       0.0  \n",
       "std         0.0       0.0       0.0  \n",
       "min         0.0       0.0       0.0  \n",
       "25%         0.0       0.0       0.0  \n",
       "50%         0.0       0.0       0.0  \n",
       "75%         0.0       0.0       0.0  \n",
       "max         0.0       0.0       0.0  \n",
       "\n",
       "[8 rows x 785 columns]"
      ]
     },
     "execution_count": 3,
     "metadata": {},
     "output_type": "execute_result"
    }
   ],
   "source": [
    "data.describe()"
   ]
  },
  {
   "cell_type": "code",
   "execution_count": 3,
   "metadata": {
    "colab": {},
    "colab_type": "code",
    "id": "28PvEG_RCdbD"
   },
   "outputs": [],
   "source": [
    "# constants\n",
    "layerLengths = [784, 15, 10]\n",
    "layerCounts = len(layerLengths)\n",
    "alpha = 1\n",
    "num_iters = 100\n",
    "epsilon = 1e-3"
   ]
  },
  {
   "cell_type": "code",
   "execution_count": 6,
   "metadata": {
    "colab": {},
    "colab_type": "code",
    "id": "48HyywnCCdbF"
   },
   "outputs": [],
   "source": [
    "def generateY(y):\n",
    "    m = y.shape[0]\n",
    "    Y = np.zeros((layerLengths[-1], m))\n",
    "    for i in range(m):\n",
    "        Y[y.iloc[i], i] = 1\n",
    "    return Y\n",
    "\n",
    "def featureNormalize(X, mu=None, sigma=None):\n",
    "    if mu is None:\n",
    "        mu = np.mean(X.values)\n",
    "    if sigma is None:\n",
    "        sigma = np.std(X.values)\n",
    "    return ((X - mu) / sigma, mu, sigma)\n"
   ]
  },
  {
   "cell_type": "code",
   "execution_count": 8,
   "metadata": {
    "colab": {
     "base_uri": "https://localhost:8080/",
     "height": 446
    },
    "colab_type": "code",
    "id": "uJvAT6edCdbH",
    "outputId": "854cb86b-e887-4d5d-cc1b-df79b69008d2"
   },
   "outputs": [
    {
     "name": "stdout",
     "output_type": "stream",
     "text": [
      "33.408911169825075 78.677739760763\n"
     ]
    }
   ],
   "source": [
    "data_X = data.loc[:, \"pixel0\":]\n",
    "data_y = data.loc[:, \"label\"]\n",
    "\n",
    "data_X, mu, sigma = featureNormalize(data_X)\n",
    "print(mu, sigma)\n",
    "train_X, test_X, train_y, test_y = train_test_split(data_X, data_y, test_size=0.2)\n",
    "\n",
    "train_X = train_X.T\n",
    "train_y = train_y.T\n",
    "test_X = test_X.T\n",
    "test_y = test_y.T\n",
    "\n",
    "test_Y = generateY(test_y)\n",
    "train_Y = generateY(train_y)"
   ]
  },
  {
   "cell_type": "code",
   "execution_count": 7,
   "metadata": {
    "colab": {},
    "colab_type": "code",
    "id": "VeiQkVdoCdbJ"
   },
   "outputs": [],
   "source": [
    "# helper functions\n",
    "def sigmoid (A):\n",
    "    return 1 / (1 + np.exp(-A))\n",
    "\n",
    "def prependWithValues(A, v = 1):\n",
    "    return np.insert(A, 0, [v], axis=0)\n",
    "\n",
    "def updateTheta(theta, delta):\n",
    "    for i in range(layerCounts - 1):\n",
    "        theta[i] -= delta[i] * alpha\n",
    "    return theta\n",
    "        \n",
    "def initRandomTheta():\n",
    "    theta = []\n",
    "    for i in range(layerCounts - 1):\n",
    "        l = layerLengths[i]\n",
    "        nl = layerLengths[i + 1]\n",
    "        theta.append(np.random.rand(nl, l + 1) * 2 - 1)\n",
    "    return theta\n",
    "        \n",
    "def flattenTheta(theta):\n",
    "    res = np.empty((0, 0))\n",
    "    for t in theta:\n",
    "        ft = t.flatten()\n",
    "        res = np.append(res, ft)\n",
    "    return res\n",
    "\n",
    "def reshapeTheta(flatten_theta):\n",
    "    theta = []\n",
    "    s = 0\n",
    "    for i in range(layerCounts - 1):\n",
    "        w = layerLengths[i] + 1\n",
    "        h = layerLengths[i + 1]\n",
    "        segment = flatten_theta[s:s+w*h]\n",
    "        theta.append(segment.reshape(h, w))\n",
    "        s += w * h\n",
    "    return theta"
   ]
  },
  {
   "cell_type": "code",
   "execution_count": 8,
   "metadata": {
    "colab": {},
    "colab_type": "code",
    "id": "ECgbtkvtCdbL"
   },
   "outputs": [],
   "source": [
    "def forwardPropagation(X, theta):\n",
    "    activations = [None] * layerCounts\n",
    "    activations[0] = X.values\n",
    "    for i in range(1, layerCounts):\n",
    "        # insert bias unit into evaluation\n",
    "        a = prependWithValues(activations[i - 1])\n",
    "        activations[i] = sigmoid(theta[i - 1] @ a)\n",
    "    return activations"
   ]
  },
  {
   "cell_type": "code",
   "execution_count": 9,
   "metadata": {
    "colab": {},
    "colab_type": "code",
    "id": "Lqd166PJCdbQ"
   },
   "outputs": [],
   "source": [
    "def cost(X, Y, theta, lmbd=0):\n",
    "    m = X.shape[1]\n",
    "    activations = forwardPropagation(X, theta)\n",
    "    h = activations[-1]\n",
    "    reg_theta = [t[1:,:] for t in theta]\n",
    "    reg_term = sum([np.sum((np.square(t))) for t in reg_theta]) * lmbd / (2 * m)\n",
    "    J = np.sum(Y * np.log(h) + (1 - Y) * np.log(1 - h)) * (-1 / m) \n",
    "    return [J, activations]"
   ]
  },
  {
   "cell_type": "code",
   "execution_count": 17,
   "metadata": {
    "colab": {},
    "colab_type": "code",
    "id": "7dZwE8tJCdbS"
   },
   "outputs": [],
   "source": [
    "def backwardPropagation(activations, Y, theta, lmbd=0):\n",
    "    delta = []\n",
    "    A = []\n",
    "    YY = prependWithValues(Y)\n",
    "    for t in theta:\n",
    "        delta.append(np.zeros(t.shape))\n",
    "    for i in range(len(activations)):\n",
    "        A.append(prependWithValues(activations[i]))\n",
    "    m = Y.shape[1]\n",
    "    \n",
    "    for caseId in range(m):\n",
    "        act = []\n",
    "        d = [None] * layerCounts\n",
    "        y = YY[:, caseId]\n",
    "        for i in range(layerCounts):\n",
    "            act.append(A[i][:, caseId])\n",
    "        d[-1] = act[-1] - y\n",
    "        for i in range(layerCounts - 2, 0, -1):\n",
    "            d[i] = theta[i].T @ d[i + 1][1:] * act[i] * (1 - act[i])\n",
    "        for i in range(layerCounts - 1):\n",
    "            delta[i] += d[i + 1][1:, None] @ act[i].reshape(1, len(act[i]))\n",
    "    reg_theta = [t.copy() for t in theta]\n",
    "    for i in range(layerCounts - 1):\n",
    "        reg_theta[i][0, :] = [0]\n",
    "        reg_theta[i] *= lmbd\n",
    "    for i in range(layerCounts - 1):\n",
    "        delta[i] = (delta[i] + reg_theta[i]) / m\n",
    "    \n",
    "    return delta"
   ]
  },
  {
   "cell_type": "code",
   "execution_count": 18,
   "metadata": {
    "colab": {},
    "colab_type": "code",
    "id": "1IfDrxgkCdbW"
   },
   "outputs": [],
   "source": [
    "def estimateGradient(X, Y, theta):\n",
    "    gradients = []\n",
    "    fTheta = flattenTheta(theta)\n",
    "    p = np.zeros(fTheta.shape)\n",
    "    for i in range(len(fTheta)):\n",
    "        p[i] = epsilon\n",
    "        ht = reshapeTheta(fTheta + p)\n",
    "        lt = reshapeTheta(fTheta - p)\n",
    "        g = (cost(X, Y, ht)[0] - cost(X, Y, lt)[0]) / (2 * epsilon)\n",
    "        gradients.append(g)\n",
    "        p[i] = 0\n",
    "    return np.array(gradients)\n",
    "                "
   ]
  },
  {
   "cell_type": "code",
   "execution_count": 19,
   "metadata": {
    "colab": {},
    "colab_type": "code",
    "id": "6Q2Hn5fKCdbY"
   },
   "outputs": [
    {
     "name": "stdout",
     "output_type": "stream",
     "text": [
      "Highest difference between backprop gradient and estimated gradient:  1.5345019921397807e-08\n"
     ]
    }
   ],
   "source": [
    "# gradient check\n",
    "gtt = initRandomTheta()\n",
    "id = [1, 2]\n",
    "gtX = test_X.iloc[:, id]\n",
    "gtY = test_Y[:, id]\n",
    "eg = estimateGradient(gtX, gtY, gtt)\n",
    "act = forwardPropagation(gtX, gtt)\n",
    "g = backwardPropagation(act, gtY, gtt)\n",
    "print(\"Highest difference between backprop gradient and estimated gradient: \",  max(flattenTheta(g) - eg))"
   ]
  },
  {
   "cell_type": "code",
   "execution_count": 61,
   "metadata": {
    "colab": {
     "base_uri": "https://localhost:8080/",
     "height": 477
    },
    "colab_type": "code",
    "id": "g3I0Hnc4Cdbe",
    "outputId": "590c7a45-8a3b-4e63-92bc-006fe375d377"
   },
   "outputs": [],
   "source": [
    "# train using whole batched gradient descent\n",
    "def gradientDescent(X, Y, num_epoch=100, alpha=1, theta=None, print_cost=False, lmbd=1):\n",
    "    if theta is None:\n",
    "        theta = initRandomTheta()\n",
    "    act = []\n",
    "    costHistory = []\n",
    "    for epoch in range(num_epoch):\n",
    "        print(\"Training epoch: \", epoch)\n",
    "        c, act = cost(X, Y, theta, lmbd)\n",
    "        gradient = backwardPropagation(act, Y, theta, lmbd)\n",
    "        theta = updateTheta(theta, gradient)\n",
    "        costHistory.append(c)\n",
    "        if print_cost:\n",
    "            print(c)\n",
    "        if costHistory[-1] - c >= 1e-7:\n",
    "            break\n",
    "    np.save(\"weight.npy\",theta)\n",
    "    return theta"
   ]
  },
  {
   "cell_type": "code",
   "execution_count": 21,
   "metadata": {},
   "outputs": [],
   "source": [
    "# train using mini batch gradient descent\n",
    "def getBatch(X, Y, batchSize):\n",
    "    m = X.shape[1]\n",
    "    idx = np.random.permutation(m)\n",
    "    X, Y = X.iloc[:, idx], Y[:, idx]\n",
    "    l = 0\n",
    "    while True:\n",
    "        h = min(l + batchSize, m)\n",
    "        yield (X.iloc[:, l: h], Y[:, l: h])\n",
    "        if h == m:\n",
    "            break\n",
    "        l = h"
   ]
  },
  {
   "cell_type": "code",
   "execution_count": 22,
   "metadata": {},
   "outputs": [],
   "source": [
    "def miniBatchGradientDescent(X, Y, num_epoch=50, alpha=1, theta=None, print_cost=False, batch_size=200, lmbd=1):\n",
    "    if theta is None:\n",
    "        theta = initRandomTheta()\n",
    "    act = []\n",
    "    costHistory = []\n",
    "    for epoch in range(num_epoch):\n",
    "        print(\"Training epoch: \", epoch)\n",
    "        for b_X, b_Y in getBatch(X, Y, batch_size):\n",
    "            c, act = cost(b_X, b_Y, theta, lmbd)\n",
    "            gradient = backwardPropagation(act, b_Y, theta, lmbd)\n",
    "            theta = updateTheta(theta, gradient)\n",
    "            costHistory.append(c)\n",
    "            if print_cost:\n",
    "                print(c)\n",
    "    np.save(\"weight.npy\",theta)\n",
    "    plt.plot(costHistory)\n",
    "    return theta"
   ]
  },
  {
   "cell_type": "code",
   "execution_count": 62,
   "metadata": {
    "scrolled": true
   },
   "outputs": [
    {
     "name": "stdout",
     "output_type": "stream",
     "text": [
      "Training epoch:  0\n",
      "Training epoch:  1\n",
      "Training epoch:  2\n",
      "Training epoch:  3\n",
      "Training epoch:  4\n",
      "Training epoch:  5\n",
      "Training epoch:  6\n",
      "Training epoch:  7\n",
      "Training epoch:  8\n",
      "Training epoch:  9\n",
      "Final cost:  0.21740476364174663\n"
     ]
    }
   ],
   "source": [
    "# Start training\n",
    "%matplotlib inline\n",
    "nn_theta = miniBatchGradientDescent(train_X, train_Y, num_epoch=50, alpha=3, lmbd=1, theta=old_theta)\n",
    "# nn_theta = gradientDescent(train_X, train_Y, num_epoch=50, alpha=2, lmbd=5)\n",
    "print(\"Final cost: \", cost(train_X, train_Y, nn_theta)[0])"
   ]
  },
  {
   "cell_type": "code",
   "execution_count": 26,
   "metadata": {
    "colab": {},
    "colab_type": "code",
    "id": "jf_oZWjBCdbg"
   },
   "outputs": [],
   "source": [
    "def predict(X, theta):\n",
    "    activations = forwardPropagation(X, theta)\n",
    "    h = activations[-1]\n",
    "    return (np.argmax(h, axis=0), h)"
   ]
  },
  {
   "cell_type": "code",
   "execution_count": 52,
   "metadata": {
    "colab": {
     "base_uri": "https://localhost:8080/",
     "height": 337
    },
    "colab_type": "code",
    "id": "uDEYFSKiCdbi",
    "outputId": "7100f7aa-b775-4667-f458-1f7280de1dad"
   },
   "outputs": [
    {
     "data": {
      "image/png": "[encoded data removed]",
      "text/plain": [
       "<Figure size 432x288 with 1 Axes>"
      ]
     },
     "metadata": {
      "needs_background": "light"
     },
     "output_type": "display_data"
    },
    {
     "name": "stdout",
     "output_type": "stream",
     "text": [
      "This is number : 5\n",
      "Prediction probabilities:  [0.    0.    0.    0.006 0.    0.835 0.    0.    0.002 0.112]\n"
     ]
    }
   ],
   "source": [
    "id = np.random.randint(0, test_X.shape[1])\n",
    "tX = test_X.iloc[:, id]\n",
    "tY = test_Y[:, id]\n",
    "pixels = tX.values.reshape((28, 28))\n",
    "plt.imshow(pixels, cmap='gray')\n",
    "plt.show()\n",
    "res, prob = predict(tX, nn_theta)\n",
    "print(\"This is number :\", res)\n",
    "print(\"Prediction probabilities: \", np.around(prob, decimals=3))"
   ]
  },
  {
   "cell_type": "code",
   "execution_count": 64,
   "metadata": {},
   "outputs": [
    {
     "name": "stdout",
     "output_type": "stream",
     "text": [
      "Correctly predicted  7762  in  8400  times\n",
      "Accuracy:  92.4047619047619 %\n"
     ]
    }
   ],
   "source": [
    "eval_X = test_X.iloc[:,]\n",
    "eval_y = test_y[:]\n",
    "res, _ = predict(eval_X, nn_theta)\n",
    "correct_count = np.sum(res == eval_y)\n",
    "total_count = eval_X.shape[1] \n",
    "print(\"Correctly predicted \", correct_count , \" in \", total_count, \" times\")\n",
    "print(\"Accuracy: \", correct_count / total_count * 100, \"%\")"
   ]
  },
  {
   "cell_type": "code",
   "execution_count": null,
   "metadata": {},
   "outputs": [],
   "source": [
    "wrong_X = eval_X.loc[:, res != eval_y]\n",
    "pixels = wrong_X.iloc[:,np.random.randint(0, len(wrong_X))].values.reshape((28, 28))\n",
    "plt.imshow(pixels, cmap='gray')\n",
    "plt.show()"
   ]
  }
 ],
 "metadata": {
  "accelerator": "GPU",
  "colab": {
   "name": "Neural Network.ipynb",
   "provenance": [],
   "toc_visible": true,
   "version": "0.3.2"
  },
  "kernelspec": {
   "display_name": "Python 3",
   "language": "python",
   "name": "python3"
  },
  "language_info": {
   "codemirror_mode": {
    "name": "ipython",
    "version": 3
   },
   "file_extension": ".py",
   "mimetype": "text/x-python",
   "name": "python",
   "nbconvert_exporter": "python",
   "pygments_lexer": "ipython3",
   "version": "3.7.3"
  }
 },
 "nbformat": 4,
 "nbformat_minor": 1
}
